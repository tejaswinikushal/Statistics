{
 "cells": [
  {
   "cell_type": "markdown",
   "id": "888e9dea",
   "metadata": {},
   "source": [
    "#### Q1. What is Statistics?"
   ]
  },
  {
   "cell_type": "markdown",
   "id": "1d1fff74",
   "metadata": {},
   "source": [
    "statistics is the science of collecting ,organizing,and analyzing data"
   ]
  },
  {
   "cell_type": "markdown",
   "id": "b90ffc58",
   "metadata": {},
   "source": [
    "#### Q2. Define the different types of statistics and give an example of when each type might be used."
   ]
  },
  {
   "cell_type": "markdown",
   "id": "e5000b22",
   "metadata": {},
   "source": [
    "#### Types Of Statistics:\n",
    "1.Descriptive\n",
    "\n",
    "2.Inferential\n",
    "\n",
    "#### 1.Descriptive Statistics:\n",
    "                It consist of organising and summarising the data.\n",
    "                \n",
    "#### 2.Inferential:\n",
    "                It consist of using data that you have measured to form conclusion.\n",
    "#### EX: There are 50 students in a class in an university .we have collected heights of students in class  are 135,145,125,130,140,.....\n",
    "\n",
    "#### descriptive type questions:\n",
    "1.what is the avg height of students in a class(mean).\n",
    "\n",
    "2.what is common height of students in a class(median).\n",
    "\n",
    "#### Inferential type questions:\n",
    "1.Are the Average height of students in a class similar to the avg height of students in the university.(HINT:solved using z or t-test)"
   ]
  },
  {
   "cell_type": "markdown",
   "id": "14ff73c0",
   "metadata": {},
   "source": [
    "#### Q3. What are the different types of data and how do they differ from each other? Provide an example of each type of data."
   ]
  },
  {
   "cell_type": "markdown",
   "id": "75b56808",
   "metadata": {},
   "source": [
    "#### Types of data:\n",
    "\n",
    "1.Quantitative data.\n",
    "\n",
    "2.Qualitative data.\n",
    "\n",
    "#### 1.Quantitative data:\n",
    "                   it has two types.it is also called as numerical data.\n",
    "   \n",
    "   1.Discrete data: data that is in the form or in the range of whole numbers.\n",
    "   \n",
    "   Ex: number of bank accounts\n",
    "   \n",
    "       number of children in a family.\n",
    "       \n",
    "   2.Continuous data: data that is in the form of decimal.\n",
    "   \n",
    "   EX: wheat,weight,height,temp,speed.\n",
    "   \n",
    "#### 2.Qualitative data:(categorical data)\n",
    "                    it has two types.\n",
    "                    \n",
    "   1.Nominal data: examples are gender,colour,blood group\n",
    "   \n",
    "   2. ordinal data: data for which ranking can be given is called ordinal data.\n",
    "   \n",
    "   EX:Good,bad,satisfactory."
   ]
  },
  {
   "cell_type": "markdown",
   "id": "5f5d7208",
   "metadata": {},
   "source": [
    "#### Q4. Categorise the following datasets with respect to quantitative and qualitative data types:\n",
    "##### (i) Grading in exam: A+, A, B+, B, C+, C, D, E\n",
    "##### (ii) Colour of mangoes: yellow, green, orange, red\n",
    "##### (iii) Height data of a class: [178.9, 179, 179.5, 176, 177.2, 178.3, 175.8,...]\n",
    "##### (iv) Number of mangoes exported by a farm: [500, 600, 478, 672, ...]"
   ]
  },
  {
   "cell_type": "markdown",
   "id": "4a5d7301",
   "metadata": {},
   "source": [
    "(i)Nominal data\n",
    "\n",
    "(ii)Nominal data\n",
    "\n",
    "(iii)Continuous data\n",
    "\n",
    "(iv)Discrete"
   ]
  },
  {
   "cell_type": "markdown",
   "id": "34965538",
   "metadata": {},
   "source": [
    "#### Q5. Explain the concept of levels of measurement and give an example of a variable for each level."
   ]
  },
  {
   "cell_type": "markdown",
   "id": "f3aa4846",
   "metadata": {},
   "source": [
    "#### Levels Of Measurement:\n",
    "\n",
    "#### 1.Nominal Scale data:\n",
    "\n",
    " Qualitative or categorical data.\n",
    " \n",
    " EX:gender,colour,labels\n",
    " \n",
    " Order does not matter.\n",
    " \n",
    " EX:if a survey is conducted to find a best colour in 10 people.5 people voted for red ,3 for blue,2 for yellow.we cant say red>blue or any else.but we can have percentages.\n",
    "\n",
    "#### 2.Ordinal scale:\n",
    "\n",
    "Ranking and order matters\n",
    "\n",
    "Difference cannot be measured\n",
    "\n",
    "#### 3.Interval scale data:\n",
    "\n",
    "Rank and order matters \n",
    "\n",
    "Difference can be measured easily\n",
    "\n",
    "does not have 0 as starting value\n",
    "\n",
    "#### 4.Ratio Scale Data:\n",
    "\n",
    "order and Rank matters\n",
    "\n",
    "Difference and ratios are measurable\n",
    "\n",
    "Does have 0 at starting value"
   ]
  },
  {
   "cell_type": "markdown",
   "id": "275f7f88",
   "metadata": {},
   "source": [
    "#### Q6. Why is it important to understand the level of measurement when analyzing data? Provide an example to illustrate your answer."
   ]
  },
  {
   "cell_type": "markdown",
   "id": "b1bd5668",
   "metadata": {},
   "source": [
    "The level of measurement defines the properties and characteristics of the data, which in turn affect the types of inferences and conclusions that can be drawn from the data. There are four commonly recognized levels of measurement: nominal, ordinal, interval, and ratio.\n",
    "\n",
    "Choosing the wrong statistical method for your data's level of measurement can lead to incorrect conclusions and interpretations. Therefore, a clear understanding of the level of measurement is fundamental for sound data analysis and research.\n",
    "\n",
    "Nominal data may require chi-squared tests or frequency counts.\n",
    "\n",
    "Ordinal data might use non-parametric tests like the Mann-Whitney U-test or Spearman's rank correlation.\n",
    "\n",
    "Interval and ratio data can be analyzed using parametric tests such as t-tests, ANOVA, and regression analysis"
   ]
  },
  {
   "cell_type": "markdown",
   "id": "a65d2b9c",
   "metadata": {},
   "source": [
    "#### Q7. How nominal data type is different from ordinal data type."
   ]
  },
  {
   "cell_type": "markdown",
   "id": "462bb530",
   "metadata": {},
   "source": [
    "1.Nominal Scale data:\n",
    "Qualitative or categorical data.\n",
    "\n",
    "EX:gender,colour,labels\n",
    "\n",
    "Order does not matter.\n",
    "\n",
    "EX:if a survey is conducted to find a best colour in 10 people.5 people voted for red ,3 for blue,2 for yellow.we cant say red>blue or any else.but we can have percentages.\n",
    "\n",
    "2.Ordinal scale:\n",
    "Ranking and order matters\n",
    "\n",
    "Difference cannot be measured"
   ]
  },
  {
   "cell_type": "markdown",
   "id": "35ae6ee8",
   "metadata": {},
   "source": [
    "#### Q8. Which type of plot can be used to display data in terms of range?"
   ]
  },
  {
   "cell_type": "markdown",
   "id": "0569e2d2",
   "metadata": {},
   "source": [
    "range plot or a range chart. Range plots are specifically designed to visualize the variability or spread of data points within a dataset. These plots provide a clear representation of the minimum and maximum values for each data point or category and are particularly useful when you want to emphasize the range of data rather than other statistical measures like central tendency or distribution shape.\n",
    "\n",
    "#### A range plot typically consists of:\n",
    "\n",
    "Vertical lines\n",
    "\n",
    "labels/Markers\n",
    "\n",
    "Axes"
   ]
  },
  {
   "cell_type": "markdown",
   "id": "0b5a920f",
   "metadata": {},
   "source": [
    "#### Q9. Describe the difference between descriptive and inferential statistics. Give an example of each type of statistics and explain how they are used."
   ]
  },
  {
   "cell_type": "markdown",
   "id": "b11138c6",
   "metadata": {},
   "source": [
    "#### 1.Descriptive Statistics:\n",
    "            It consist of organising and summarising the data.\n",
    "            \n",
    "#### 2.Inferential:\n",
    "            It consist of using data that you have measured to form conclusion.\n",
    "  EX: There are 50 students in a class in an university .we have collected heights of students in class are 135,145,125,130,140,.....\n",
    "#### descriptive type questions:\n",
    "1.what is the avg height of students in a class(mean).\n",
    "\n",
    "2.what is common height of students in a class(median).\n",
    "\n",
    "#### Inferential type questions:\n",
    "1.Are the Average height of students in a class similar to the avg height of students in the university.(HINT:solved using z or t-test)"
   ]
  },
  {
   "cell_type": "markdown",
   "id": "0e3fd9ee",
   "metadata": {},
   "source": [
    "#### Q10. What are some common measures of central tendency and variability used in statistics? Explain how each measure can be used to describe a dataset."
   ]
  },
  {
   "cell_type": "markdown",
   "id": "8600788a",
   "metadata": {},
   "source": [
    "#### Measures of central Tendency:\n",
    "\n",
    "##### 1.Mean:\n",
    "          The mean is calculated by adding up all the data points in a dataset and dividing by the total number of data points. It represents the arithmetic average of the data.It provides a balanced summary when the data is approximately normally distributed\n",
    "          \n",
    "##### 2.Median:\n",
    "         The median is the middle value when the data is arranged in ascending or descending order. If there's an even number of data points, it's the average of the two middle values.\n",
    "\n",
    "Use: The median is a good measure of central tendency when the data contains extreme values \n",
    "\n",
    "##### 3.Mode:\n",
    "          The mode is the value that appears most frequently in a dataset.\n",
    "\n",
    "Use: The mode is useful for describing the most common value in a dataset, particularly when dealing with categorical or discrete data.\n",
    "\n",
    "#### Measures Of Variability:\n",
    "\n",
    "##### 1.Range: \n",
    "        The range is the difference between the maximum and minimum values in a dataset.\n",
    "\n",
    "Use: The range provides a simple way to understand the spread of data\n",
    "\n",
    "##### 2.Variance:\n",
    "         Variance measures the average of the squared differences between each data point and the mean. It quantifies how data points deviate from the mean.\n",
    "\n",
    "Use: Variance provides a measure of the overall variability within a dataset. A higher variance indicates greater spread, while a lower variance indicates less spread\n",
    "\n",
    "##### 3.Standard Deviation:\n",
    "        The standard deviation is the square root of the variance. It measures the average deviation of data points from the mean.\n",
    "          "
   ]
  },
  {
   "cell_type": "code",
   "execution_count": null,
   "id": "f588f062",
   "metadata": {},
   "outputs": [],
   "source": []
  }
 ],
 "metadata": {
  "kernelspec": {
   "display_name": "Python 3 (ipykernel)",
   "language": "python",
   "name": "python3"
  },
  "language_info": {
   "codemirror_mode": {
    "name": "ipython",
    "version": 3
   },
   "file_extension": ".py",
   "mimetype": "text/x-python",
   "name": "python",
   "nbconvert_exporter": "python",
   "pygments_lexer": "ipython3",
   "version": "3.11.2"
  }
 },
 "nbformat": 4,
 "nbformat_minor": 5
}
